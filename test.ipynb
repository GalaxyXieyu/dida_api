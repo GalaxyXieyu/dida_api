{
 "cells": [
  {
   "cell_type": "code",
   "execution_count": null,
   "metadata": {},
   "outputs": [],
   "source": [
    "from dida import DidaClient, Task, Project, Tag\n",
    "client = DidaClient(email=\"your_email\", password=\"your_password\")"
   ]
  },
  {
   "cell_type": "markdown",
   "metadata": {},
   "source": [
    "## 账号登录"
   ]
  },
  {
   "cell_type": "code",
   "execution_count": 1,
   "metadata": {},
   "outputs": [],
   "source": [
    "from dida import DidaClient\n",
    "client = DidaClient(token = \"your_token\")\n",
    "# client = DidaClient(email=\"your_email\", password=\"your_password\")"
   ]
  },
  {
   "cell_type": "markdown",
   "metadata": {},
   "source": [
    "## 创建任务"
   ]
  },
  {
   "cell_type": "code",
   "execution_count": 3,
   "metadata": {},
   "outputs": [
    {
     "data": {
      "text/plain": [
       "{'id': '67c5c5ebe4b0c06ee1081aca',\n",
       " 'title': '提交报销流程111',\n",
       " 'content': '',\n",
       " 'priority': 0,\n",
       " 'status': 0,\n",
       " 'startDate': '2025-03-03 12:00:00',\n",
       " 'dueDate': '2025-03-03 23:16:00',\n",
       " 'projectId': '4024428bac6d182ac68da936',\n",
       " 'tagDetails': [],\n",
       " 'kind': 'TEXT',\n",
       " 'isAllDay': False,\n",
       " 'reminder': 'TRIGGER:-PT5M',\n",
       " 'items': [],\n",
       " 'progress': 0,\n",
       " 'modifiedTime': '2025-03-03 23:08:27',\n",
       " 'createdTime': '2025-03-03 23:08:27',\n",
       " 'isCompleted': False,\n",
       " 'creator': 1014518876,\n",
       " 'timeZone': 'Asia/Shanghai',\n",
       " 'isFloating': False,\n",
       " 'reminders': [{'id': '67c5c5ea6f3affc87428dbf3', 'trigger': 'TRIGGER:-PT5M'}],\n",
       " 'exDate': [],\n",
       " 'etag': '33qre15z',\n",
       " 'deleted': 0,\n",
       " 'attachments': [],\n",
       " 'imgMode': 0,\n",
       " 'sortOrder': -3299004645376,\n",
       " 'children': []}"
      ]
     },
     "execution_count": 3,
     "metadata": {},
     "output_type": "execute_result"
    }
   ],
   "source": [
    "new_task = client.tasksv2.create_task(\n",
    "    title=\"提交报销流程111\",\n",
    "    content=None,\n",
    "    priority=None,\n",
    "    project_name=\"🙊日常工作\",\n",
    "    tag_names=[],\n",
    "    start_date=\"2025-03-03 12:00:00\",\n",
    "    due_date=\"2025-03-03 23:16:00\",\n",
    "    is_all_day=False,\n",
    "    reminder=\"-5M\",\n",
    "    parent_id=None\n",
    ")\n",
    "new_task"
   ]
  },
  {
   "cell_type": "markdown",
   "metadata": {},
   "source": [
    "## 更新任务"
   ]
  },
  {
   "cell_type": "code",
   "execution_count": 6,
   "metadata": {},
   "outputs": [
    {
     "data": {
      "text/plain": [
       "{'success': True,\n",
       " 'info': '任务更新成功',\n",
       " 'data': {'id': '67c1f2d6ebad9a00000011f9',\n",
       "  'projectId': '4024428bac6d182ac68da936',\n",
       "  'sortOrder': 2343459933408,\n",
       "  'title': 'Coze好用的自媒体工具',\n",
       "  'content': '',\n",
       "  'startDate': '2025-03-01T07:00:00.000+0000',\n",
       "  'dueDate': '2025-03-01T10:30:00.000+0000',\n",
       "  'timeZone': 'Asia/Shanghai',\n",
       "  'isFloating': False,\n",
       "  'isAllDay': False,\n",
       "  'reminders': [{'id': '67c1f2f1ebad9a0000001211', 'trigger': 'TRIGGER:PT0S'}],\n",
       "  'exDate': [],\n",
       "  'completedTime': '2025-03-01T04:22:44.927+0000',\n",
       "  'completedUserId': 1014518876,\n",
       "  'priority': 0,\n",
       "  'status': 2,\n",
       "  'items': [],\n",
       "  'progress': 0,\n",
       "  'modifiedTime': '2025-03-01T04:22:44.927+0000',\n",
       "  'etag': 'cl8lw753',\n",
       "  'deleted': 0,\n",
       "  'createdTime': '2025-02-28T17:31:02.000+0000',\n",
       "  'creator': 1014518876,\n",
       "  'repeatFrom': '2',\n",
       "  'attachments': [],\n",
       "  'columnId': '',\n",
       "  'kind': 'TEXT',\n",
       "  'imgMode': 0,\n",
       "  'notionBlock': '[{\"key\":\"pageUrl\",\"value\":{\"type\":\"url\",\"url\":\"https://www.notion.so/Coze-1a8beac1b6cb81128c91fe65a1758c0d\"}}]'}}"
      ]
     },
     "execution_count": 6,
     "metadata": {},
     "output_type": "execute_result"
    }
   ],
   "source": [
    "update_task = client.tasksv2.update_task(\n",
    "    task_id_or_title=\"Coze好用的自媒体工具\",\n",
    "    status=2\n",
    ")\n",
    "update_task"
   ]
  },
  {
   "cell_type": "markdown",
   "metadata": {},
   "source": [
    "## 删除任务"
   ]
  },
  {
   "cell_type": "code",
   "execution_count": 4,
   "metadata": {},
   "outputs": [
    {
     "data": {
      "text/plain": [
       "{'success': True,\n",
       " 'info': \"成功删除任务 '提交报销流程v5（更新）'\",\n",
       " 'data': {'id': '67c27b22e4b0c06ee0886237',\n",
       "  'title': '提交报销流程v5（更新）',\n",
       "  'content': '',\n",
       "  'priority': 0,\n",
       "  'status': 0,\n",
       "  'startDate': '2025-03-01 12:00:00',\n",
       "  'dueDate': '2025-03-01 12:00:00',\n",
       "  'projectName': '🙊日常工作',\n",
       "  'projectId': '4024428bac6d182ac68da936',\n",
       "  'projectKind': 'TASK',\n",
       "  'tagDetails': [],\n",
       "  'kind': 'TEXT',\n",
       "  'isAllDay': False,\n",
       "  'reminder': 'TRIGGER:P0Y0M0DT0H0M0.000S',\n",
       "  'items': [],\n",
       "  'progress': 0,\n",
       "  'modifiedTime': '2025-03-01 11:12:48',\n",
       "  'createdTime': '2025-03-01 11:12:34',\n",
       "  'isCompleted': False,\n",
       "  'creator': 1014518876,\n",
       "  'timeZone': 'Asia/Shanghai',\n",
       "  'isFloating': False,\n",
       "  'reminders': [{'id': '67c27b22e4b0c06ee0886238',\n",
       "    'trigger': '2025-03-01 12:00:00'}],\n",
       "  'exDate': [],\n",
       "  'etag': 'l5matn71',\n",
       "  'deleted': 0,\n",
       "  'attachments': [],\n",
       "  'imgMode': 0,\n",
       "  'sortOrder': -7697051156480,\n",
       "  'children': []}}"
      ]
     },
     "execution_count": 4,
     "metadata": {},
     "output_type": "execute_result"
    }
   ],
   "source": [
    "delete_task = client.tasksv2.delete_task(\n",
    "    task_id_or_title=\"提交报销流程v5\"\n",
    ")\n",
    "delete_task"
   ]
  },
  {
   "cell_type": "markdown",
   "metadata": {},
   "source": [
    "## 创建项目"
   ]
  },
  {
   "cell_type": "code",
   "execution_count": null,
   "metadata": {},
   "outputs": [],
   "source": []
  },
  {
   "cell_type": "markdown",
   "metadata": {},
   "source": [
    "## 修改项目"
   ]
  },
  {
   "cell_type": "code",
   "execution_count": null,
   "metadata": {},
   "outputs": [],
   "source": []
  },
  {
   "cell_type": "markdown",
   "metadata": {},
   "source": [
    "## 查询项目"
   ]
  },
  {
   "cell_type": "code",
   "execution_count": null,
   "metadata": {},
   "outputs": [],
   "source": []
  },
  {
   "cell_type": "markdown",
   "metadata": {},
   "source": [
    "## 删除项目"
   ]
  },
  {
   "cell_type": "code",
   "execution_count": null,
   "metadata": {},
   "outputs": [],
   "source": []
  }
 ],
 "metadata": {
  "kernelspec": {
   "display_name": "base",
   "language": "python",
   "name": "python3"
  },
  "language_info": {
   "codemirror_mode": {
    "name": "ipython",
    "version": 3
   },
   "file_extension": ".py",
   "mimetype": "text/x-python",
   "name": "python",
   "nbconvert_exporter": "python",
   "pygments_lexer": "ipython3",
   "version": "3.11.5"
  }
 },
 "nbformat": 4,
 "nbformat_minor": 2
}
