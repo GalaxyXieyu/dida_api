{
 "cells": [
  {
   "cell_type": "code",
   "execution_count": 1,
   "metadata": {},
   "outputs": [],
   "source": [
    "from dida import DidaClient, Task, Project, Tag\n",
    "client = DidaClient(email=\"xy523018705@163.com\", password=\"Xieyu120807!!!\")"
   ]
  },
  {
   "cell_type": "code",
   "execution_count": 3,
   "metadata": {},
   "outputs": [
    {
     "name": "stdout",
     "output_type": "stream",
     "text": [
      "已完成任务: 0\n",
      "未完成任务: 0\n",
      "任务 '⏰ 习惯打卡：见证坚持与成长' 是否完成: False\n",
      "任务 '📊 看板、时间线视图：可视化管理' 是否完成: False\n",
      "任务 '🔖 桌面便签：随时记录想法' 是否完成: False\n",
      "任务 '🔗 订阅日历：不再错过重要日程' 是否完成: False\n",
      "任务 '✨ 更多特色功能' 是否完成: False\n",
      "任务 '📅 日历：日程安排一目了然' 是否完成: False\n",
      "任务 '🎯 四象限：提升效率利器' 是否完成: False\n",
      "任务 '🍅 番茄专注：拯救拖延症' 是否完成: False\n",
      "任务 '✅ 点击输入框，创建任务' 是否完成: False\n",
      "任务 '⏰ 习惯打卡：见证坚持与成长' 是否完成: False\n",
      "任务 '📋 用清单来管理任务' 是否完成: False\n",
      "任务 '💎 高级会员' 是否完成: False\n",
      "任务 '💡 帮助中心' 是否完成: False\n"
     ]
    }
   ],
   "source": [
    "\n",
    "# 获取所有任务\n",
    "tasks = client.tasks.get_all_tasks()\n",
    "\n",
    "# 任务会被自动分组为已完成和未完成\n",
    "grouped_tasks = client.tasks.get_today_tasks()\n",
    "\n",
    "# 查看分组结果\n",
    "print(\"已完成任务:\", len(grouped_tasks['completed']))\n",
    "print(\"未完成任务:\", len(grouped_tasks['uncompleted']))\n",
    "\n",
    "# 如果要手动检查某个任务的状态\n",
    "for task in tasks:\n",
    "    is_completed = client.tasks._is_task_completed(task)\n",
    "    print(f\"任务 '{task['title']}' 是否完成: {is_completed}\")\n",
    "    if is_completed:\n",
    "        print(f\"完成原因:\")\n",
    "        if task.get('status') == 2:\n",
    "            print(\"- status 字段为已完成\")\n",
    "        if task.get('columnId') in client.tasks._completed_columns:\n",
    "            print(\"- 位于已完成栏目中\")\n",
    "        if task.get('columnId') in client.tasks._column_info:\n",
    "            column = client.tasks._column_info[task['columnId']]\n",
    "            if '已完成' in column.get('name', ''):\n",
    "                print(f\"- 所在栏目 '{column['name']}' 为已完成栏目\")"
   ]
  },
  {
   "cell_type": "code",
   "execution_count": 4,
   "metadata": {},
   "outputs": [
    {
     "data": {
      "text/plain": [
       "{'total_tasks': 15,\n",
       " 'completed_tasks': 0,\n",
       " 'uncompleted_tasks': 15,\n",
       " 'overdue_tasks': 0,\n",
       " 'priority_stats': {'最低': 15, '低': 0, '中': 0, '高': 0},\n",
       " 'today_completion_rate': 0,\n",
       " 'week_completion_rate': 0,\n",
       " 'month_completion_rate': 0}"
      ]
     },
     "execution_count": 4,
     "metadata": {},
     "output_type": "execute_result"
    }
   ],
   "source": [
    "stats = client.tasks.get_task_statistics()\n",
    "stats"
   ]
  }
 ],
 "metadata": {
  "kernelspec": {
   "display_name": "Python 3",
   "language": "python",
   "name": "python3"
  },
  "language_info": {
   "codemirror_mode": {
    "name": "ipython",
    "version": 3
   },
   "file_extension": ".py",
   "mimetype": "text/x-python",
   "name": "python",
   "nbconvert_exporter": "python",
   "pygments_lexer": "ipython3",
   "version": "3.10.15"
  }
 },
 "nbformat": 4,
 "nbformat_minor": 2
}
