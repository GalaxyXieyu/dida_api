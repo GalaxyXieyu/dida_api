{
 "cells": [
  {
   "cell_type": "code",
   "execution_count": 1,
   "metadata": {},
   "outputs": [],
   "source": [
    "from dida import DidaClient, Task, Project, Tag\n",
    "client = DidaClient(email=\"xy523018705@163.com\", password=\"Xieyu120807!!!\")"
   ]
  },
  {
   "cell_type": "code",
   "execution_count": null,
   "metadata": {},
   "outputs": [],
   "source": [
    "tasks = client.tasks.get_all_tasks()\n",
    "tasks"
   ]
  },
  {
   "cell_type": "code",
   "execution_count": 3,
   "metadata": {},
   "outputs": [
    {
     "ename": "TypeError",
     "evalue": "TaskAPI.get_completed_tasks() missing 1 required positional argument: 'project_id'",
     "output_type": "error",
     "traceback": [
      "\u001b[0;31m---------------------------------------------------------------------------\u001b[0m",
      "\u001b[0;31mTypeError\u001b[0m                                 Traceback (most recent call last)",
      "Cell \u001b[0;32mIn[3], line 4\u001b[0m\n\u001b[1;32m      1\u001b[0m tasks \u001b[38;5;241m=\u001b[39m client\u001b[38;5;241m.\u001b[39mtasks\u001b[38;5;241m.\u001b[39mget_all_tasks()\n\u001b[1;32m      3\u001b[0m \u001b[38;5;66;03m# 获取某个项目的已完成任务\u001b[39;00m\n\u001b[0;32m----> 4\u001b[0m completed_tasks \u001b[38;5;241m=\u001b[39m \u001b[43mclient\u001b[49m\u001b[38;5;241;43m.\u001b[39;49m\u001b[43mtasks\u001b[49m\u001b[38;5;241;43m.\u001b[39;49m\u001b[43mget_completed_tasks\u001b[49m\u001b[43m(\u001b[49m\n\u001b[1;32m      5\u001b[0m \u001b[43m    \u001b[49m\u001b[43mfrom_time\u001b[49m\u001b[38;5;241;43m=\u001b[39;49m\u001b[38;5;124;43m\"\u001b[39;49m\u001b[38;5;124;43m2024-02-19 00:00:00\u001b[39;49m\u001b[38;5;124;43m\"\u001b[39;49m\u001b[43m,\u001b[49m\n\u001b[1;32m      6\u001b[0m \u001b[43m    \u001b[49m\u001b[43mto_time\u001b[49m\u001b[38;5;241;43m=\u001b[39;49m\u001b[38;5;124;43m\"\u001b[39;49m\u001b[38;5;124;43m2024-02-19 23:59:59\u001b[39;49m\u001b[38;5;124;43m\"\u001b[39;49m\n\u001b[1;32m      7\u001b[0m \u001b[43m)\u001b[49m\n\u001b[1;32m      9\u001b[0m \u001b[38;5;66;03m# 获取今天的任务（包括已完成和未完成）\u001b[39;00m\n\u001b[1;32m     10\u001b[0m today_tasks \u001b[38;5;241m=\u001b[39m client\u001b[38;5;241m.\u001b[39mtasks\u001b[38;5;241m.\u001b[39mget_today_tasks()\n",
      "\u001b[0;31mTypeError\u001b[0m: TaskAPI.get_completed_tasks() missing 1 required positional argument: 'project_id'"
     ]
    }
   ],
   "source": [
    "tasks = client.tasks.get_all_tasks()\n",
    "\n",
    "# 获取某个项目的已完成任务\n",
    "completed_tasks = client.tasks.get_completed_tasks(\n",
    "    from_time=\"2024-02-19 00:00:00\",\n",
    "    to_time=\"2024-02-19 23:59:59\"\n",
    ")\n",
    "\n",
    "# 获取今天的任务（包括已完成和未完成）\n",
    "today_tasks = client.tasks.get_today_tasks()\n",
    "print(f\"今天已完成: {len(today_tasks['completed'])} 个任务\")\n",
    "print(f\"今天未完成: {len(today_tasks['uncompleted'])} 个任务\")\n",
    "\n",
    "# 获取任务统计信息\n",
    "stats = client.tasks.get_task_statistics()\n",
    "print(f\"总任务数: {stats['total_tasks']}\")\n",
    "print(f\"已完成任务数: {stats['completed_tasks']}\")\n",
    "print(f\"未完成任务数: {stats['uncompleted_tasks']}\")\n",
    "print(f\"今日完成率: {stats['today_completion_rate']}%\")"
   ]
  },
  {
   "cell_type": "code",
   "execution_count": 4,
   "metadata": {},
   "outputs": [
    {
     "data": {
      "text/plain": [
       "{'total_tasks': 15,\n",
       " 'completed_tasks': 0,\n",
       " 'uncompleted_tasks': 15,\n",
       " 'overdue_tasks': 0,\n",
       " 'priority_stats': {'最低': 15, '低': 0, '中': 0, '高': 0},\n",
       " 'today_completion_rate': 0,\n",
       " 'week_completion_rate': 0,\n",
       " 'month_completion_rate': 0}"
      ]
     },
     "execution_count": 4,
     "metadata": {},
     "output_type": "execute_result"
    }
   ],
   "source": [
    "stats = client.tasks.get_task_statistics()\n",
    "stats"
   ]
  }
 ],
 "metadata": {
  "kernelspec": {
   "display_name": "Python 3",
   "language": "python",
   "name": "python3"
  },
  "language_info": {
   "codemirror_mode": {
    "name": "ipython",
    "version": 3
   },
   "file_extension": ".py",
   "mimetype": "text/x-python",
   "name": "python",
   "nbconvert_exporter": "python",
   "pygments_lexer": "ipython3",
   "version": "3.10.15"
  }
 },
 "nbformat": 4,
 "nbformat_minor": 2
}
