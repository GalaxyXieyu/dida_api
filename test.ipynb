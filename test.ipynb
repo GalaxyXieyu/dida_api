{
 "cells": [
  {
   "cell_type": "code",
   "execution_count": 1,
   "metadata": {},
   "outputs": [],
   "source": [
    "from dida import DidaClient, Task, Project, Tag\n",
    "client = DidaClient(email=\"xy523018705@163.com\", password=\"Xieyu120807!!!\")"
   ]
  },
  {
   "cell_type": "code",
   "execution_count": 2,
   "metadata": {},
   "outputs": [],
   "source": [
    "Tasks = client.tasks.get_all()"
   ]
  },
  {
   "cell_type": "code",
   "execution_count": null,
   "metadata": {},
   "outputs": [
    {
     "data": {
      "text/plain": [
       "[Task({'title': '测试笔记', 'content': '厕所', 'priority': 0, 'status': 0, 'sortOrder': -1099511627776, 'timeZone': 'Asia/Shanghai', 'isFloating': False, 'isAllDay': True, 'reminder': '', 'reminders': [], 'repeatFlag': '', 'exDate': [], 'items': [], 'progress': 0, 'kind': 'NOTE', 'imgMode': 0, 'projectId': '67b43319e37d5c000000078d', 'etag': 'c55kwsjc', 'creator': 1025856553, 'id': '67b4331ee37d5c0000000794'}),\n",
       " Task({'title': '🎯 四象限：提升效率利器', 'content': '如果你每天有很多事情要做，使用四象限功能，可以帮助你聚焦重要且紧急的工作。\\n\\n![file](https://pull.dida365.com/newuser3/desktop/cn/matrix.mp4)\\n', 'priority': 0, 'status': 0, 'sortOrder': -1099511627776, 'timeZone': 'Asia/Shanghai', 'isFloating': False, 'isAllDay': False, 'reminder': '', 'reminders': [], 'repeatFlag': '', 'exDate': [], 'items': [], 'progress': 0, 'kind': 'TEXT', 'imgMode': 0, 'projectId': '67b430b2bca8fd0262d7c41e', 'etag': 'ewypsnl5', 'creator': 1025856553, 'columnId': '67b430b2bca8fd0262d7c420', 'id': '67b430b2bca8fd0262d7c426'}),\n",
       " Task({'title': '✅ 点击输入框，创建任务', 'content': '如果你经常忘记要做的事情，不妨将这些事情记录下来，设置提醒，解放你的大脑。\\n\\n![file](https://pull.dida365.com/newuser3/desktop/cn/task.mp4)\\n\\n', 'priority': 0, 'status': 0, 'sortOrder': -1099511627776, 'timeZone': 'Asia/Shanghai', 'isFloating': False, 'isAllDay': False, 'reminder': '', 'reminders': [], 'repeatFlag': '', 'exDate': [], 'items': [], 'progress': 0, 'kind': 'TEXT', 'imgMode': 0, 'projectId': '67b430b2bca8fd0262d7c41e', 'etag': 'j8p4cbp8', 'creator': 1025856553, 'columnId': '67b430b2bca8fd0262d7c421', 'id': '67b430b2bca8fd0262d7c427'}),\n",
       " Task({'title': '⏰ 习惯打卡：见证坚持与成长', 'content': '想要培养好的习惯，却总是半途而废？不妨试试这个功能。每次的打卡记录和数据统计，会见证你的坚持与成长。\\n\\n![file](https://pull.dida365.com/newuser3/desktop/cn/habit.mp4)\\n', 'priority': 0, 'status': 0, 'sortOrder': -1099511627776, 'timeZone': 'Asia/Shanghai', 'isFloating': False, 'isAllDay': False, 'reminder': '', 'reminders': [], 'repeatFlag': '', 'exDate': [], 'items': [], 'progress': 0, 'kind': 'TEXT', 'imgMode': 0, 'projectId': '67b430b2bca8fd0262d7c41e', 'etag': '9qdhpxw2', 'creator': 1025856553, 'columnId': '67b430b2bca8fd0262d7c420', 'id': '67b430b2bca8fd0262d7c429'}),\n",
       " Task({'title': '📋 用清单来管理任务', 'content': '当任务越来越多时，你可以使用清单来分类管理任务。\\n\\n- **收集箱**：临时的想法和事情都可以记录在这里。\\n- **智能清单**：有时间的任务将智能显示在“今天、最近 7 天”清单中，哪天需要做什么一目了然。\\n- **清单**：你还可以添加清单来管理任务，如工作、生活等。\\n\\t\\n[💡了解更多清单内容](https://help.dida365.com/articles/6950654234933067776)\\n\\t\\n![file](https://pull.dida365.com/newuser3/desktop/cn/list.mp4)\\n', 'priority': 0, 'status': 0, 'sortOrder': -1099511627776, 'timeZone': 'Asia/Shanghai', 'isFloating': False, 'isAllDay': False, 'reminder': '', 'reminders': [], 'repeatFlag': '', 'exDate': [], 'items': [], 'progress': 0, 'kind': 'TEXT', 'imgMode': 0, 'projectId': '67b430b2bca8fd0262d7c41e', 'etag': 'ijk7qbce', 'creator': 1025856553, 'columnId': '67b430b2bca8fd0262d7c421', 'id': '67b430b2bca8fd0262d7c42a'}),\n",
       " Task({'title': '📊 看板、时间线视图：可视化管理', 'content': '随心切换清单视图，让任务展示更高效。\\n\\n- **看板视图**：希望任务分类呈现？快使用看板视图，以卡片形式展现任务分类，分类一目了然。[💡了解看板视图](https://help.dida365.com/articles/6950656501543337984)\\n\\t\\n- **时间线视图**：长期项目如何追踪？试试时间线视图，更直观查看任务时间、轻松拖拽随时调整计划。[💡了解时间线视图](https://help.dida365.com/articles/6950656549178048512)\\n\\t\\n![file](https://pull.dida365.com/newuser3/desktop/cn/view.mp4)\\n', 'priority': 0, 'status': 0, 'sortOrder': -1099511627776, 'timeZone': 'Asia/Shanghai', 'isFloating': False, 'isAllDay': True, 'reminder': '', 'reminders': [], 'repeatFlag': '', 'exDate': [], 'items': [], 'progress': 0, 'kind': 'TEXT', 'imgMode': 0, 'projectId': '67b4305fbca8fd0262d7c374', 'etag': 'en1ynk5x', 'creator': 1025856553, 'columnId': '67b4305fbca8fd0262d7c376', 'id': '67b4305fbca8fd0262d7c378'}),\n",
       " Task({'title': '🔖 桌面便签：随时记录想法', 'content': '灵感乍现，想记录下来？使用桌面便签功能随时记录你的所思所想。你还可以将重点事项写在便签中，直接贴在桌面上，随时跟进处理。\\n\\n[👀 如何打开便签](https://help.dida365.com/articles/6986508444417130496)\\n\\n![file](https://pull.dida365.com/newuser3/desktop/cn/note.mp4)\\n\\n\\n', 'priority': 0, 'status': 0, 'sortOrder': 268435456, 'timeZone': 'Asia/Shanghai', 'isFloating': False, 'isAllDay': True, 'reminder': '', 'reminders': [], 'repeatFlag': '', 'exDate': [], 'items': [], 'progress': 0, 'kind': 'TEXT', 'imgMode': 0, 'projectId': '67b4305fbca8fd0262d7c374', 'etag': 'g3dia5kx', 'creator': 1025856553, 'columnId': '67b4305fbca8fd0262d7c376', 'id': '67b4305fbca8fd0262d7c379'}),\n",
       " Task({'title': '🔗 订阅日历：不再错过重要日程', 'content': '还在频繁的切换其他日历应用查看日程？试试订阅日历功能，可轻松订阅Google、Outlook、Exchange、iCloud 日历、钉钉、飞书、QQ 邮箱等日历。\\n\\n[💡如何订阅日历](https://help.dida365.com/articles/6950000554735042560)\\n\\n![file](https://pull.dida365.com/newuser3/desktop/cn/subscription.mp4)\\n', 'priority': 0, 'status': 0, 'sortOrder': 536870912, 'timeZone': 'Asia/Shanghai', 'isFloating': False, 'isAllDay': True, 'reminder': '', 'reminders': [], 'repeatFlag': '', 'exDate': [], 'items': [], 'progress': 0, 'kind': 'TEXT', 'imgMode': 0, 'projectId': '67b4305fbca8fd0262d7c374', 'etag': 'a0pp9xvp', 'creator': 1025856553, 'columnId': '67b4305fbca8fd0262d7c376', 'id': '67b4305fbca8fd0262d7c37a'}),\n",
       " Task({'title': '✨ 更多特色功能', 'content': '我们还有这些特色功能：\\n\\n- **全平台支持**：不管是手机、电脑，还是手表，几乎所有用得到的设备和操作系统都支持。[👀 看看支持哪些平台](https://help.dida365.com/articles/6950366447398813696)\\n\\n- **共享协作**：项目需要和同事一起完成？快邀请他们加入你的清单，轻松指派任务给成员。[🤝 如何共享清单](https://help.dida365.com/articles/6950649257581871104)\\n\\n- **标签**：想要个性化管理任务？试试给任务添加标签，轻松分类和筛选任务，管理更便捷。[🏷️ 如何使用标签](https://help.dida365.com/articles/6950656299306582016)\\n\\n- **过滤器**：需要查看所有高优先级的任务？试试过滤器功能，随心所欲筛选你想看的任务。[🚀 如何使用过滤器](https://help.dida365.com/articles/6950655961044353024)\\n\\n- **摘要**：还在为复盘内容苦思冥想？试试摘要功能，轻松掌握一段时间内的任务完成情况。 [📋 如何使用摘要](https://help.dida365.com/articles/6950671600370843648#摘要)\\n\\t\\n- **指令菜单**：想快速前往功能模块，直接使用指令菜单（Ctrl/Command+K），轻松前往。[⌨️ 了解更多快捷操作](https://help.dida365.com/articles/6950372467189743616)\\n\\n', 'priority': 0, 'status': 0, 'sortOrder': 805306368, 'timeZone': 'Asia/Shanghai', 'isFloating': False, 'isAllDay': True, 'reminder': '', 'reminders': [], 'repeatFlag': '', 'exDate': [], 'items': [], 'progress': 0, 'kind': 'TEXT', 'imgMode': 0, 'projectId': '67b4305fbca8fd0262d7c374', 'etag': 'xf07jwav', 'creator': 1025856553, 'columnId': '67b4305fbca8fd0262d7c376', 'id': '67b4305fbca8fd0262d7c37b'}),\n",
       " Task({'title': '📅 日历：日程安排一目了然', 'content': '时间管理的关键，不仅在于提醒备忘，更在于有一个好的规划。我们为你提供了多种日历视图，方便你更好地安排日程。\\n\\n![file](https://pull.dida365.com/newuser3/desktop/cn/calendar.mp4)\\n', 'priority': 0, 'status': 0, 'sortOrder': 1073741824, 'timeZone': 'Asia/Shanghai', 'isFloating': False, 'isAllDay': False, 'reminder': '', 'reminders': [], 'repeatFlag': '', 'exDate': [], 'items': [], 'progress': 0, 'kind': 'TEXT', 'imgMode': 0, 'projectId': '67b4305fbca8fd0262d7c374', 'etag': 'hzqfqcxb', 'creator': 1025856553, 'columnId': '67b4305fbca8fd0262d7c375', 'id': '67b4305fbca8fd0262d7c37c'}),\n",
       " Task({'title': '🎯 四象限：提升效率利器', 'content': '如果你每天有很多事情要做，使用四象限功能，可以帮助你聚焦重要且紧急的工作。\\n\\n![file](https://pull.dida365.com/newuser3/desktop/cn/matrix.mp4)\\n', 'priority': 0, 'status': 0, 'sortOrder': 1342177280, 'timeZone': 'Asia/Shanghai', 'isFloating': False, 'isAllDay': False, 'reminder': '', 'reminders': [], 'repeatFlag': '', 'exDate': [], 'items': [], 'progress': 0, 'kind': 'TEXT', 'imgMode': 0, 'projectId': '67b4305fbca8fd0262d7c374', 'etag': 'mp5nsyef', 'creator': 1025856553, 'columnId': '67b4305fbca8fd0262d7c375', 'id': '67b4305fbca8fd0262d7c37d'}),\n",
       " Task({'title': '🍅 番茄专注：拯救拖延症', 'content': '如果你有拖延症，不妨试试番茄工作法，用完成一个个番茄钟积累的成就感，帮助你达成更多目标。\\n\\n![file](https://pull.dida365.com/newuser3/desktop/cn/pomodoro.mp4)\\n', 'priority': 0, 'status': 0, 'sortOrder': 1610612736, 'timeZone': 'Asia/Shanghai', 'isFloating': False, 'isAllDay': False, 'reminder': '', 'reminders': [], 'repeatFlag': '', 'exDate': [], 'items': [], 'progress': 0, 'kind': 'TEXT', 'imgMode': 0, 'projectId': '67b4305fbca8fd0262d7c374', 'etag': 'u7kzfdzj', 'creator': 1025856553, 'columnId': '67b4305fbca8fd0262d7c375', 'id': '67b4305fbca8fd0262d7c37e'}),\n",
       " Task({'title': '✅ 点击输入框，创建任务', 'content': '如果你经常忘记要做的事情，不妨将这些事情记录下来，设置提醒，解放你的大脑。\\n\\n![file](https://pull.dida365.com/newuser3/desktop/cn/task.mp4)\\n\\n', 'priority': 0, 'status': 0, 'sortOrder': 1879048192, 'timeZone': 'Asia/Shanghai', 'isFloating': False, 'isAllDay': False, 'reminder': '', 'reminders': [], 'repeatFlag': '', 'exDate': [], 'items': [], 'progress': 0, 'kind': 'TEXT', 'imgMode': 0, 'projectId': '67b4305fbca8fd0262d7c374', 'etag': 'd3p72fw7', 'creator': 1025856553, 'columnId': '67b4305fbca8fd0262d7c377', 'id': '67b4305fbca8fd0262d7c37f'}),\n",
       " Task({'title': '⏰ 习惯打卡：见证坚持与成长', 'content': '想要培养好的习惯，却总是半途而废？不妨试试这个功能。每次的打卡记录和数据统计，会见证你的坚持与成长。\\n\\n![file](https://pull.dida365.com/newuser3/desktop/cn/habit.mp4)\\n', 'priority': 0, 'status': 0, 'sortOrder': 2147483648, 'timeZone': 'Asia/Shanghai', 'isFloating': False, 'isAllDay': False, 'reminder': '', 'reminders': [], 'repeatFlag': '', 'exDate': [], 'items': [], 'progress': 0, 'kind': 'TEXT', 'imgMode': 0, 'projectId': '67b4305fbca8fd0262d7c374', 'etag': 'pia7dtvm', 'creator': 1025856553, 'columnId': '67b4305fbca8fd0262d7c375', 'id': '67b4305fbca8fd0262d7c380'}),\n",
       " Task({'title': '📋 用清单来管理任务', 'content': '当任务越来越多时，你可以使用清单来分类管理任务。\\n\\n- **收集箱**：临时的想法和事情都可以记录在这里。\\n- **智能清单**：有时间的任务将智能显示在“今天、最近 7 天”清单中，哪天需要做什么一目了然。\\n- **清单**：你还可以添加清单来管理任务，如工作、生活等。\\n\\t\\n[💡了解更多清单内容](https://help.dida365.com/articles/6950654234933067776)\\n\\t\\n![file](https://pull.dida365.com/newuser3/desktop/cn/list.mp4)\\n', 'priority': 0, 'status': 0, 'sortOrder': 2415919104, 'timeZone': 'Asia/Shanghai', 'isFloating': False, 'isAllDay': False, 'reminder': '', 'reminders': [], 'repeatFlag': '', 'exDate': [], 'items': [], 'progress': 0, 'kind': 'TEXT', 'imgMode': 0, 'projectId': '67b4305fbca8fd0262d7c374', 'etag': '1r15k8q6', 'creator': 1025856553, 'columnId': '67b4305fbca8fd0262d7c377', 'id': '67b4305fbca8fd0262d7c381'}),\n",
       " Task({'title': '💎 高级会员', 'content': '在所有平台上享有20项高级功能、10倍清单和任务数量，助你实现更多目标和可能。\\n\\n[✌️了解高级会员功能](https://dida365.com/payment?from=welcome)\\n', 'priority': 0, 'status': 0, 'sortOrder': 2684354560, 'timeZone': 'Asia/Shanghai', 'isFloating': False, 'isAllDay': False, 'reminder': '', 'reminders': [], 'repeatFlag': '', 'exDate': [], 'items': [], 'progress': 0, 'kind': 'TEXT', 'imgMode': 0, 'projectId': '67b4305fbca8fd0262d7c374', 'etag': 'yjxisogp', 'creator': 1025856553, 'columnId': '67b4305fbca8fd0262d7c376', 'id': '67b4305fbca8fd0262d7c382'}),\n",
       " Task({'title': '💡 帮助中心', 'content': '在帮助中心，你可以更全面地了解滴答清单，学习时间管理方法。如果有任何的建议和疑问，也可以直接联系我们。\\n\\n你也可以在社交媒体上关注我们，获取最新动态和更多使用技巧。\\n* 微信公众号：滴答清单\\n* 小红书：[滴答清单](https://www.xiaohongshu.com/user/profile/5f411985000000000101e179?xhsshare=CopyLink&appuid=62eba61c0000000015017062&apptime=1680746095)\\n* 微博：[滴答清单](https://weibo.com/u/3495327284)\\n\\n[🤝去帮助中心瞧一瞧](https://help.dida365.com)\\n', 'priority': 0, 'status': 0, 'sortOrder': 2952790016, 'timeZone': 'Asia/Shanghai', 'isFloating': False, 'isAllDay': False, 'reminder': '', 'reminders': [], 'repeatFlag': '', 'exDate': [], 'items': [], 'progress': 0, 'kind': 'TEXT', 'imgMode': 0, 'projectId': '67b4305fbca8fd0262d7c374', 'etag': '8w860q3v', 'creator': 1025856553, 'columnId': '67b4305fbca8fd0262d7c376', 'id': '67b4305fbca8fd0262d7c383'})]"
      ]
     },
     "execution_count": 3,
     "metadata": {},
     "output_type": "execute_result"
    }
   ],
   "source": [
    "Tasks"
   ]
  }
 ],
 "metadata": {
  "kernelspec": {
   "display_name": "Python 3",
   "language": "python",
   "name": "python3"
  },
  "language_info": {
   "codemirror_mode": {
    "name": "ipython",
    "version": 3
   },
   "file_extension": ".py",
   "mimetype": "text/x-python",
   "name": "python",
   "nbconvert_exporter": "python",
   "pygments_lexer": "ipython3",
   "version": "3.10.15"
  }
 },
 "nbformat": 4,
 "nbformat_minor": 2
}
