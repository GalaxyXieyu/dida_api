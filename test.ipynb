{
 "cells": [
  {
   "cell_type": "code",
   "execution_count": 2,
   "metadata": {},
   "outputs": [],
   "source": [
    "from dida import DidaClient, Task, Project, Tag\n",
    "client = DidaClient(email=\"xy523018705@163.com\", password=\"Xieyu120807!!!\")"
   ]
  },
  {
   "cell_type": "code",
   "execution_count": null,
   "metadata": {},
   "outputs": [],
   "source": [
    "tasks = client.tasks.get_all_tasks()\n",
    "tasks\n",
    "from dida import DidaClient\n",
    "client = DidaClient(token = \"43A001113F9610FF0C0651F4C0F7C0974DEC469A0E7EEF51CAE7A572FDB73B26FF6BAF5DD653F30E3C127D934942DFB91C20D05FDCA693A4AF90E9ABB17694FE3496370CA3E062187BE871138D9684A1001947D0D6DCDA220977FA3418AE9F989130E206729852C0B5775BE32651C1E6151002FFD8A511415BD9D4E1E88F6B1D84A2ED6669FB8EEB5BAAA8D3375AF695755B8A8FEE442F1A0CEDE47C4808F7BF82033DFA7F9D65AEA781DFC550DC9D9F\")\n",
    "\n",
    "tasks = client.tasks.get_today_tasks()\n",
    "tasks"
   ]
  },
  {
   "cell_type": "code",
   "execution_count": 3,
   "metadata": {},
   "outputs": [
    {
     "name": "stdout",
     "output_type": "stream",
     "text": [
      "今天已完成: 0 个任务\n",
      "今天未完成: 0 个任务\n",
      "总任务数: 16\n",
      "已完成任务数: 4\n",
      "未完成任务数: 12\n",
      "今日完成率: 0%\n"
     ]
    }
   ],
   "source": [
    "tasks = client.tasks.get_all_tasks()\n",
    "\n",
    "# 获取某个项目的已完成任务\n",
    "completed_tasks = client.tasks.get_completed_tasks(\n",
    "    from_time=\"2024-02-19 00:00:00\",\n",
    "    to_time=\"2024-02-19 23:59:59\"\n",
    ")\n",
    "\n",
    "# 获取今天的任务（包括已完成和未完成）\n",
    "today_tasks = client.tasks.get_today_tasks()\n",
    "print(f\"今天已完成: {len(today_tasks['completed'])} 个任务\")\n",
    "print(f\"今天未完成: {len(today_tasks['uncompleted'])} 个任务\")\n",
    "\n",
    "# 获取任务统计信息\n",
    "stats = client.tasks.get_task_statistics()\n",
    "print(f\"总任务数: {stats['total_tasks']}\")\n",
    "print(f\"已完成任务数: {stats['completed_tasks']}\")\n",
    "print(f\"未完成任务数: {stats['uncompleted_tasks']}\")\n",
    "print(f\"今日完成率: {stats['today_completion_rate']}%\")"
   ]
  },
  {
   "cell_type": "code",
   "execution_count": 4,
   "metadata": {},
   "outputs": [
    {
     "data": {
      "text/plain": [
       "{'total_tasks': 16,\n",
       " 'completed_tasks': 4,\n",
       " 'uncompleted_tasks': 12,\n",
       " 'overdue_tasks': 0,\n",
       " 'priority_stats': {'最低': 16, '低': 0, '中': 0, '高': 0},\n",
       " 'today_completion_rate': 0,\n",
       " 'week_completion_rate': 80.0,\n",
       " 'month_completion_rate': 80.0}"
      ]
     },
     "execution_count": 4,
     "metadata": {},
     "output_type": "execute_result"
    }
   ],
   "source": [
    "stats = client.tasks.get_task_statistics()\n",
    "stats"
   ]
  },
  {
   "cell_type": "code",
   "execution_count": 3,
   "metadata": {},
   "outputs": [],
   "source": [
    "# 创建一个复杂任务的数据结构\n",
    "complex_task = {\n",
    "    \"title\": \"🌟 超级复杂任务测试\",\n",
    "    \"content\": \"\"\"# 这是一个复杂任务测试\n",
    "    \n",
    "## 功能清单：\n",
    "- 高优先级\n",
    "- 定时提醒\n",
    "- 标签系统\n",
    "- 子任务列表\n",
    "- 开始和截止时间\n",
    "- 附件支持\n",
    "    \n",
    "> 这是一个测试任务，用来验证所有功能是否正常。\"\"\",\n",
    "    \n",
    "    # 基本属性\n",
    "    \"priority\": 5,  # 最高优先级\n",
    "    \"status\": 0,    # 未完成状态\n",
    "    \"kind\": \"TEXT\", # 任务类型\n",
    "    \n",
    "    # 时间相关\n",
    "    \"startDate\": \"2025-02-20T09:00:00.000+0000\",  # 开始时间\n",
    "    \"dueDate\": \"2025-02-21T18:00:00.000+0000\",    # 截止时间\n",
    "    \"timeZone\": \"Asia/Shanghai\",\n",
    "    \"isFloating\": False,\n",
    "    \"isAllDay\": False,\n",
    "    \n",
    "    # 提醒设置\n",
    "    \"reminders\": [\n",
    "        {\n",
    "            \"id\": \"reminder_001\",\n",
    "            \"trigger\": \"TRIGGER:PT0S\"  # 准时提醒\n",
    "        }\n",
    "    ],\n",
    "    \n",
    "    # 重复设置\n",
    "    \"repeatFlag\": \"FREQ=WEEKLY;INTERVAL=1\",  # 每周重复\n",
    "    \"exDate\": [],  # 例外日期\n",
    "    \n",
    "    # 子任务\n",
    "    \"items\": [\n",
    "        {\n",
    "            \"title\": \"子任务1：准备材料\",\n",
    "            \"status\": 0,\n",
    "            \"startDate\": \"2025-02-20T09:00:00.000+0000\",\n",
    "            \"isChecked\": False\n",
    "        },\n",
    "        {\n",
    "            \"title\": \"子任务2：审核文档\",\n",
    "            \"status\": 0,\n",
    "            \"startDate\": \"2025-02-20T14:00:00.000+0000\",\n",
    "            \"isChecked\": False\n",
    "        }\n",
    "    ],\n",
    "    \n",
    "    # 标签\n",
    "    \"tags\": [\"测试\"],\n",
    "    \n",
    "    # 进度\n",
    "    \"progress\": 0,\n",
    "    \n",
    "    # 项目ID（使用你的示例中的项目ID）\n",
    "    \"projectId\": \"67b43319e37d5c000000078d\",\n",
    "    \n",
    "    # 排序\n",
    "    \"sortOrder\": -3298534883328,\n",
    "    \n",
    "    # 其他属性\n",
    "    \"attachments\": []  # 附件列表（如果需要的话）\n",
    "}\n",
    "\n",
    "# 使用方法：\n",
    "\"\"\"\n",
    "from dida.api import Dida365API\n",
    "\n",
    "# 初始化客户端\n",
    "client = Dida365API()\n",
    "\n",
    "# 创建任务\n",
    "new_task = client.tasks.create_task(complex_task)\n",
    "print(f\"任务创建成功！ID: {new_task.get('id')}\")\n",
    "\"\"\"\n",
    "new_task = client.tasks.create_task(complex_task)"
   ]
  },
  {
   "cell_type": "code",
   "execution_count": null,
   "metadata": {},
   "outputs": [],
   "source": []
  }
 ],
 "metadata": {
  "kernelspec": {
   "display_name": "Python 3",
   "language": "python",
   "name": "python3"
  },
  "language_info": {
   "codemirror_mode": {
    "name": "ipython",
    "version": 3
   },
   "file_extension": ".py",
   "mimetype": "text/x-python",
   "name": "python",
   "nbconvert_exporter": "python",
   "pygments_lexer": "ipython3",
   "version": "3.10.15"
  }
 },
 "nbformat": 4,
 "nbformat_minor": 2
}
